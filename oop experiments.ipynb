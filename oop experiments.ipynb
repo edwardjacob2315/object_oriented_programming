{
 "cells": [
  {
   "cell_type": "code",
   "execution_count": 3,
   "metadata": {},
   "outputs": [],
   "source": [
    "class Person:\n",
    "    def __init__(self, name):\n",
    "        self.name = name\n",
    "\n",
    "    def say_hello(self):\n",
    "        print(f'Hello my name is {self.name}')\n",
    "\n",
    "\n",
    "class friends:\n",
    "    def __init__(self, name1,name2):\n",
    "        self.name1 = name1\n",
    "        self.name2 = name2\n",
    "\n",
    "    def __str__(self):\n",
    "        return f'{self.name1} and {self.name2} are friends'\n",
    "    \n",
    "\n",
    "class Student(object):\n",
    "\n",
    "    def __init__(self, name, batch):\n",
    "        self.name = name \n",
    "        self.batch = batch\n",
    "\n",
    "    def Display(self):\n",
    "        print(self.name, self.batch)\n",
    "\n",
    "    "
   ]
  },
  {
   "cell_type": "code",
   "execution_count": 5,
   "metadata": {},
   "outputs": [
    {
     "name": "stdout",
     "output_type": "stream",
     "text": [
      "Hello my name is Alice\n",
      "Ohayo and Puskus are friends\n",
      "Bintang 006\n"
     ]
    }
   ],
   "source": [
    "alice = Person(\"Alice\")\n",
    "alice.say_hello()\n",
    "\n",
    "bff = friends(\"Ohayo\", \"Puskus\")\n",
    "print(bff)\n",
    "\n",
    "std = Student('Bintang','006')\n",
    "std.Display()"
   ]
  },
  {
   "cell_type": "code",
   "execution_count": 1,
   "metadata": {},
   "outputs": [
    {
     "name": "stdout",
     "output_type": "stream",
     "text": [
      "AttributeError: 'Person' object has no attribute '__name'\n",
      "AttributeError: 'Person' object has no attribute '__age'\n",
      "Accessing private attributes using name mangling:\n",
      "Alice\n",
      "30\n"
     ]
    }
   ],
   "source": [
    "class Person:\n",
    "    def __init__(self, name, age):\n",
    "        self.__name = name\n",
    "        self.__age = age\n",
    "\n",
    "person = Person(\"Alice\", 30)\n",
    "\n",
    "# Attempting to access the private attributes directly will result in an AttributeError\n",
    "try:\n",
    "    print(person.__name)\n",
    "except AttributeError as e:\n",
    "    print(f\"AttributeError: {e}\")\n",
    "\n",
    "try:\n",
    "    print(person.__age)\n",
    "except AttributeError as e:\n",
    "    print(f\"AttributeError: {e}\")\n",
    "\n",
    "# However, the private attributes can still be accessed using name mangling\n",
    "print(\"Accessing private attributes using name mangling:\")\n",
    "print(person._Person__name)  # Output: Alice\n",
    "print(person._Person__age)   # Output: 30\n"
   ]
  },
  {
   "cell_type": "code",
   "execution_count": 14,
   "metadata": {},
   "outputs": [
    {
     "name": "stdout",
     "output_type": "stream",
     "text": [
      "5000\n",
      "5700\n",
      "5400\n",
      "AttributeError: 'BankAccount' object has no attribute '__account_number'\n",
      "12345678\n"
     ]
    }
   ],
   "source": [
    "class BankAccount:\n",
    "    def __init__(self, account_number, balance):\n",
    "        self.__account_number = account_number\n",
    "        self.__balance = balance\n",
    "\n",
    "    def deposit(self, amount):\n",
    "        self.__balance += amount\n",
    "\n",
    "    def withdraw(self, amount):\n",
    "        if self.__balance >=amount:\n",
    "            self.__balance -= amount\n",
    "\n",
    "    def get_balance(self):\n",
    "        return self.__balance\n",
    "    \n",
    "account = BankAccount(\"12345678\", 5000)\n",
    "print(account.get_balance())\n",
    "\n",
    "account.deposit(700)\n",
    "print(account.get_balance())\n",
    "\n",
    "account.withdraw(300)\n",
    "print(account.get_balance())\n",
    "\n",
    "\n",
    "try:\n",
    "    print(account.__account_number)\n",
    "except AttributeError as e:\n",
    "    print(f\"AttributeError: {e}\")\n",
    "\n",
    "\n",
    "try:\n",
    "    print(account._BankAccount__account_number)\n",
    "except AttributeError as e:\n",
    "    print(f\"AttributeError: {e}\")"
   ]
  }
 ],
 "metadata": {
  "kernelspec": {
   "display_name": "base",
   "language": "python",
   "name": "python3"
  },
  "language_info": {
   "codemirror_mode": {
    "name": "ipython",
    "version": 3
   },
   "file_extension": ".py",
   "mimetype": "text/x-python",
   "name": "python",
   "nbconvert_exporter": "python",
   "pygments_lexer": "ipython3",
   "version": "3.10.9"
  },
  "orig_nbformat": 4
 },
 "nbformat": 4,
 "nbformat_minor": 2
}
